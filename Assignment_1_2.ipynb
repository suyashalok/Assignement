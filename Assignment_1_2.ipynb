{
 "cells": [
  {
   "cell_type": "code",
   "execution_count": null,
   "id": "5c9a5c25-2b5b-40df-a66f-d78249473c63",
   "metadata": {},
   "outputs": [],
   "source": [
    "# 1. Data Acquisition: Download the Credit Card Fraud Detection dataset from Kaggle. Assume that the dataset is split into multiple CSV files that need to be processed in bulk."
   ]
  },
  {
   "cell_type": "code",
   "execution_count": null,
   "id": "70ac42a8-203e-4493-aae8-a9dd7de6b47b",
   "metadata": {},
   "outputs": [],
   "source": [
    "from pyspark.sql import SparkSession\n",
    "\n",
    "# Initialize Spark session\n",
    "spark = SparkSession.builder \\\n",
    "    .appName(\"BulkUploadCSV\") \\\n",
    "    .getOrCreate()\n",
    "\n",
    "# Specify the directory containing multiple CSV files\n",
    "directory_path = \"C:/Users/Suyash/OneDrive/Documents/\"  \n",
    "\n",
    "# Read all CSV files from the directory into a single DataFrame. The *.csv wildcard loads all CSV files from the specified directory.\n",
    "df = spark.read.csv(f\"{C:/Users/Suyash/OneDrive/Documents/creditcard.csv}*.csv\", header=True, inferSchema=True)\n",
    "\n",
    "# Remove duplicate rows\n",
    "df = df.dropDuplicates()\n",
    "\n",
    "# Display the resulting DataFrame\n",
    "df.printSchema()\n",
    "df.show(5)"
   ]
  },
  {
   "cell_type": "code",
   "execution_count": null,
   "id": "e522e1b7-914b-41e1-91b6-39638fe0007f",
   "metadata": {},
   "outputs": [],
   "source": [
    "# 2. Bulk File Handling: Load all the CSV files into a single Spark DataFrame.{ in the current task only one file is present, you need to duplicate files with a different names and de duplicate)"
   ]
  },
  {
   "cell_type": "code",
   "execution_count": null,
   "id": "e32bf88a-b15f-44b6-942d-ade4e61933d1",
   "metadata": {},
   "outputs": [],
   "source": [
    "import shutil\n",
    "from pyspark.sql import SparkSession\n",
    "\n",
    "# Initialize Spark session\n",
    "spark = SparkSession.builder \\\n",
    "    .appName(\"SimulateBulkFileHandling\") \\\n",
    "    .getOrCreate()\n",
    "\n",
    "# Original file path\n",
    "original_file = \"C:/Users/Suyash/OneDrive/Documents/creditcard.csv\"\n",
    "\n",
    "# Simulated duplicate files\n",
    "duplicate_files = [\n",
    "    \"C:/Users/Suyash/OneDrive/Documents/creditcard.csv/creditcard_copy1.csv\",\n",
    "    \"C:/Users/Suyash/OneDrive/Documents/creditcard.csv/creditcard_copy2.csv\",\n",
    "    \"C:/Users/Suyash/OneDrive/Documents/creditcard.csv/creditcard_copy3.csv\"\n",
    "]\n",
    "\n",
    "# Create duplicate files\n",
    "for file in duplicate_files:\n",
    "    shutil.copy(original_file, file)\n",
    "\n",
    "print(\"Duplicate files created successfully.\")\n",
    "\n",
    "# Directory containing all files\n",
    "file_directory = \"/mnt/data/\"\n",
    "\n",
    "# Load all CSV files from the directory into a single DataFrame\n",
    "df = spark.read.csv(f\"{C:/Users/Suyash/OneDrive/Documents/}*.csv\", header=True, inferSchema=True)\n",
    "\n",
    "# Remove duplicate rows\n",
    "df = df.dropDuplicates()\n",
    "\n",
    "# Display results\n",
    "df.printSchema()\n",
    "\n"
   ]
  },
  {
   "cell_type": "code",
   "execution_count": null,
   "id": "831d423c-18d4-4cd9-bf3b-3c2f9e997dc3",
   "metadata": {},
   "outputs": [],
   "source": []
  }
 ],
 "metadata": {
  "kernelspec": {
   "display_name": "Python 3 (ipykernel)",
   "language": "python",
   "name": "python3"
  },
  "language_info": {
   "codemirror_mode": {
    "name": "ipython",
    "version": 3
   },
   "file_extension": ".py",
   "mimetype": "text/x-python",
   "name": "python",
   "nbconvert_exporter": "python",
   "pygments_lexer": "ipython3",
   "version": "3.12.7"
  }
 },
 "nbformat": 4,
 "nbformat_minor": 5
}
